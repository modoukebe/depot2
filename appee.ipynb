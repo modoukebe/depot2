{
  "nbformat": 4,
  "nbformat_minor": 0,
  "metadata": {
    "colab": {
      "name": "appee.ipynb",
      "provenance": [],
      "collapsed_sections": [],
      "authorship_tag": "ABX9TyO+fsoby9v7Lqm968kK0ZST",
      "include_colab_link": true
    },
    "kernelspec": {
      "name": "python3",
      "display_name": "Python 3"
    }
  },
  "cells": [
    {
      "cell_type": "markdown",
      "metadata": {
        "id": "view-in-github",
        "colab_type": "text"
      },
      "source": [
        "<a href=\"https://colab.research.google.com/github/modoukebe/depot2/blob/main/appee.ipynb\" target=\"_parent\"><img src=\"https://colab.research.google.com/assets/colab-badge.svg\" alt=\"Open In Colab\"/></a>"
      ]
    },
    {
      "cell_type": "code",
      "metadata": {
        "id": "t616Y_n4d5K4"
      },
      "source": [
        "import ee\r\n",
        "import geemap"
      ],
      "execution_count": 33,
      "outputs": []
    },
    {
      "cell_type": "code",
      "metadata": {
        "colab": {
          "base_uri": "https://localhost:8080/"
        },
        "id": "MziedW3fopro",
        "outputId": "825b19b7-5587-4854-ffcb-007ad2f98cbf"
      },
      "source": [
        "try:\r\n",
        "  ee.Initialize()\r\n",
        "  print('The Earth Engine package initialized successfully!')\r\n",
        "except ee.EEException as e:\r\n",
        "  print('The Earth Engine package failed to initialize!')\r\n",
        "except:\r\n",
        "    print(\"Unexpected error:\", sys.exc_info()[0])\r\n",
        "    raise"
      ],
      "execution_count": 29,
      "outputs": [
        {
          "output_type": "stream",
          "text": [
            "The Earth Engine package failed to initialize!\n"
          ],
          "name": "stdout"
        }
      ]
    },
    {
      "cell_type": "code",
      "metadata": {
        "id": "bquLZwtFxNj1"
      },
      "source": [
        "%%bash\r\n",
        "earthengine authenticate --quiet"
      ],
      "execution_count": null,
      "outputs": []
    },
    {
      "cell_type": "code",
      "metadata": {
        "id": "tT-KRlHyyWm0"
      },
      "source": [
        "%%bash\r\n",
        "earthengine authenticate --authorization-code=4/1AY0e-g52Ighhe2aTLALp79bq9qyonfMxFUj__O65ANA16DCzJ0ibkvRNZfA"
      ],
      "execution_count": null,
      "outputs": []
    },
    {
      "cell_type": "code",
      "metadata": {
        "id": "ex4QDgiLeERO"
      },
      "source": [
        "Map = geemap.Map()\r\n",
        "Map"
      ],
      "execution_count": null,
      "outputs": []
    }
  ]
}