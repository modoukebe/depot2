{
  "nbformat": 4,
  "nbformat_minor": 0,
  "metadata": {
    "colab": {
      "name": "appee.ipynb",
      "provenance": [],
      "collapsed_sections": [],
      "authorship_tag": "ABX9TyP+7gv3tieJ5wQTaL30t6UM",
      "include_colab_link": true
    },
    "kernelspec": {
      "name": "python3",
      "display_name": "Python 3"
    }
  },
  "cells": [
    {
      "cell_type": "markdown",
      "metadata": {
        "id": "view-in-github",
        "colab_type": "text"
      },
      "source": [
        "<a href=\"https://colab.research.google.com/github/modoukebe/depot2/blob/main/appee.ipynb\" target=\"_parent\"><img src=\"https://colab.research.google.com/assets/colab-badge.svg\" alt=\"Open In Colab\"/></a>"
      ]
    },
    {
      "cell_type": "code",
      "metadata": {
        "id": "t616Y_n4d5K4"
      },
      "source": [
        "import ee\r\n",
        "import geemap"
      ],
      "execution_count": 64,
      "outputs": []
    },
    {
      "cell_type": "code",
      "metadata": {
        "id": "v5QgzgWeW2_K"
      },
      "source": [
        "try:\r\n",
        "  ee.Initialize()\r\n",
        "  print('The Earth Engine package initialized successfully!')\r\n",
        "except ee.EEException as e:\r\n",
        "  print('The Earth Engine package failed to initialize!')\r\n",
        "except:\r\n",
        "    print(\"Unexpected error:\", sys.exc_info()[0])\r\n",
        "    raise"
      ],
      "execution_count": null,
      "outputs": []
    },
    {
      "cell_type": "code",
      "metadata": {
        "id": "2PpckNd2XBCW"
      },
      "source": [
        "%%bash\r\n",
        "earthengine authenticate --quiet"
      ],
      "execution_count": null,
      "outputs": []
    },
    {
      "cell_type": "code",
      "metadata": {
        "id": "4hl1IDJZXhy4"
      },
      "source": [
        "%%bash\r\n",
        "earthengine authenticate --authorization-code=4/1AY0e-g53-4sAnG2ZUq2MfEnBz8c8xRbkTdPM0MbMPXX-qwuxjDMAVfPO8Wg"
      ],
      "execution_count": null,
      "outputs": []
    },
    {
      "cell_type": "code",
      "metadata": {
        "id": "az0xai--X1tv"
      },
      "source": [
        "%%bash\r\n",
        "rm ~/.config/earthengine"
      ],
      "execution_count": null,
      "outputs": []
    },
    {
      "cell_type": "code",
      "metadata": {
        "id": "ex4QDgiLeERO"
      },
      "source": [
        "Map = geemap.Map()\r\n",
        "Map"
      ],
      "execution_count": null,
      "outputs": []
    }
  ]
}