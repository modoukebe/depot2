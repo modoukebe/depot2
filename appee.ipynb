{
  "nbformat": 4,
  "nbformat_minor": 0,
  "metadata": {
    "colab": {
      "name": "appee.ipynb",
      "provenance": [],
      "collapsed_sections": [],
      "authorship_tag": "ABX9TyNpGOVOBmBE+p4H59IIHXmL",
      "include_colab_link": true
    },
    "kernelspec": {
      "name": "python3",
      "display_name": "Python 3"
    }
  },
  "cells": [
    {
      "cell_type": "markdown",
      "metadata": {
        "id": "view-in-github",
        "colab_type": "text"
      },
      "source": [
        "<a href=\"https://colab.research.google.com/github/modoukebe/depot2/blob/main/appee.ipynb\" target=\"_parent\"><img src=\"https://colab.research.google.com/assets/colab-badge.svg\" alt=\"Open In Colab\"/></a>"
      ]
    },
    {
      "cell_type": "code",
      "metadata": {
        "id": "t616Y_n4d5K4"
      },
      "source": [
        "import ee\r\n",
        "import geemap"
      ],
      "execution_count": 76,
      "outputs": []
    },
    {
      "cell_type": "code",
      "metadata": {
        "id": "yciD_kM0sr3m"
      },
      "source": [
        "import os\r\n",
        "import platform\r\n",
        "from subprocess import DEVNULL, STDOUT, check_call"
      ],
      "execution_count": 77,
      "outputs": []
    },
    {
      "cell_type": "code",
      "metadata": {
        "id": "4hl1IDJZXhy4"
      },
      "source": [
        "%%bash\r\n",
        "earthengine authenticate --authorization-code=4/1AY0e-g53-4sAnG2ZUq2MfEnBz8c8xRbkTdPM0MbMPXX-qwuxjDMAVfPO8Wg"
      ],
      "execution_count": null,
      "outputs": []
    },
    {
      "cell_type": "code",
      "metadata": {
        "id": "ex4QDgiLeERO"
      },
      "source": [
        "Map = geemap.Map()\r\n",
        "Map"
      ],
      "execution_count": null,
      "outputs": []
    }
  ]
}