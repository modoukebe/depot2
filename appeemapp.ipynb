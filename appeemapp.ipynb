{
  "nbformat": 4,
  "nbformat_minor": 0,
  "metadata": {
    "colab": {
      "name": "appeemapp.ipynb",
      "provenance": [],
      "authorship_tag": "ABX9TyPqrarc1lyMR3tc8pz/+m2o",
      "include_colab_link": true
    },
    "kernelspec": {
      "name": "python3",
      "display_name": "Python 3"
    }
  },
  "cells": [
    {
      "cell_type": "markdown",
      "metadata": {
        "id": "view-in-github",
        "colab_type": "text"
      },
      "source": [
        "<a href=\"https://colab.research.google.com/github/modoukebe/depot2/blob/main/appeemapp.ipynb\" target=\"_parent\"><img src=\"https://colab.research.google.com/assets/colab-badge.svg\" alt=\"Open In Colab\"/></a>"
      ]
    },
    {
      "cell_type": "code",
      "metadata": {
        "id": "WHyKlHPXGFB7"
      },
      "source": [
        "import ee\r\n",
        "import geemap"
      ],
      "execution_count": 2,
      "outputs": []
    },
    {
      "cell_type": "code",
      "metadata": {
        "id": "ggRkaexJzmx4"
      },
      "source": [
        "ee.Initialize()"
      ],
      "execution_count": 9,
      "outputs": []
    },
    {
      "cell_type": "code",
      "metadata": {
        "id": "Bzp7i_EhGYFw"
      },
      "source": [
        "Map = geemap.Map()\r\n",
        "Map"
      ],
      "execution_count": null,
      "outputs": []
    }
  ]
}