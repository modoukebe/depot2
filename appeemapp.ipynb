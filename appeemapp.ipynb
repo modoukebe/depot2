{
  "nbformat": 4,
  "nbformat_minor": 0,
  "metadata": {
    "colab": {
      "name": "appeemapp.ipynb",
      "provenance": [],
      "authorship_tag": "ABX9TyMeG0CkYKS6hrWlFGNeBuSh",
      "include_colab_link": true
    },
    "kernelspec": {
      "name": "python3",
      "display_name": "Python 3"
    }
  },
  "cells": [
    {
      "cell_type": "markdown",
      "metadata": {
        "id": "view-in-github",
        "colab_type": "text"
      },
      "source": [
        "<a href=\"https://colab.research.google.com/github/modoukebe/depot2/blob/main/appeemapp.ipynb\" target=\"_parent\"><img src=\"https://colab.research.google.com/assets/colab-badge.svg\" alt=\"Open In Colab\"/></a>"
      ]
    },
    {
      "cell_type": "code",
      "metadata": {
        "id": "WHyKlHPXGFB7"
      },
      "source": [
        "import ee\r\n",
        "import geemap"
      ],
      "execution_count": 6,
      "outputs": []
    },
    {
      "cell_type": "code",
      "metadata": {
        "id": "hLn-2X6nzN0E"
      },
      "source": [
        "import os\r\n",
        "import platform\r\n",
        "from subprocess import DEVNULL, STDOUT, check_call"
      ],
      "execution_count": 1,
      "outputs": []
    },
    {
      "cell_type": "code",
      "metadata": {
        "colab": {
          "base_uri": "https://localhost:8080/"
        },
        "id": "3iTA2mMMzrxC",
        "outputId": "78788923-aa36-4d27-da18-d982973fe3d8"
      },
      "source": [
        "def set_heroku_vars(token_name=\"EARTHENGINE_TOKEN\"):\r\n",
        "    \"\"\"Extracts Earth Engine token from the local computer and sets it as an environment variable on heroku.\r\n",
        "    Args:\r\n",
        "        token_name (str, optional): Name of the Earth Engine token. Defaults to 'EARTHENGINE_TOKEN'.\r\n",
        "    \"\"\"\r\n",
        "    try:\r\n",
        "\r\n",
        "        ee_token_dir = os.path.expanduser(\"~/.config/earthengine/\")\r\n",
        "        ee_token_file = os.path.join(ee_token_dir, \"credentials\")\r\n",
        "\r\n",
        "        if not os.path.exists(ee_token_file):\r\n",
        "            print(\"The credentials file does not exist.\")\r\n",
        "        else:\r\n",
        "            with open(ee_token_file) as f:\r\n",
        "                content = f.read()\r\n",
        "                token = content.split(\":\")[1].strip()[1:-2]\r\n",
        "                # if platform.system() == 'Linux':\r\n",
        "                #     token = content.split(':')[1][1:-3]\r\n",
        "                # else:\r\n",
        "                #     token = content.split(':')[1][2:-2]\r\n",
        "                secret = \"{}={}\".format(token_name, token)\r\n",
        "                if platform.system() == \"Windows\":\r\n",
        "                    check_call(\r\n",
        "                        [\"heroku\", \"config:set\", secret],\r\n",
        "                        stdout=DEVNULL,\r\n",
        "                        stderr=STDOUT,\r\n",
        "                        shell=True,\r\n",
        "                    )\r\n",
        "                else:\r\n",
        "                    check_call(\r\n",
        "                        [\"heroku\", \"config:set\", secret],\r\n",
        "                        stdout=DEVNULL,\r\n",
        "                        stderr=STDOUT,\r\n",
        "                    )\r\n",
        "\r\n",
        "    except Exception as e:\r\n",
        "        print(e)\r\n",
        "        return\r\n",
        "\r\n",
        "\r\n",
        "if __name__ == \"__main__\":\r\n",
        "\r\n",
        "    set_heroku_vars(token_name=\"EARTHENGINE_TOKEN\")"
      ],
      "execution_count": 2,
      "outputs": [
        {
          "output_type": "stream",
          "text": [
            "The credentials file does not exist.\n"
          ],
          "name": "stdout"
        }
      ]
    },
    {
      "cell_type": "code",
      "metadata": {
        "id": "Bzp7i_EhGYFw"
      },
      "source": [
        "Map = geemap.Map()\r\n",
        "Map"
      ],
      "execution_count": null,
      "outputs": []
    }
  ]
}