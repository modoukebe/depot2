{
  "nbformat": 4,
  "nbformat_minor": 0,
  "metadata": {
    "colab": {
      "name": "appeemapp.ipynb",
      "provenance": [],
      "authorship_tag": "ABX9TyOPT9LcvKIJt5/yUH/H4hr6",
      "include_colab_link": true
    },
    "kernelspec": {
      "name": "python3",
      "display_name": "Python 3"
    }
  },
  "cells": [
    {
      "cell_type": "markdown",
      "metadata": {
        "id": "view-in-github",
        "colab_type": "text"
      },
      "source": [
        "<a href=\"https://colab.research.google.com/github/modoukebe/depot2/blob/main/appeemapp.ipynb\" target=\"_parent\"><img src=\"https://colab.research.google.com/assets/colab-badge.svg\" alt=\"Open In Colab\"/></a>"
      ]
    },
    {
      "cell_type": "code",
      "metadata": {
        "id": "Z0Pn9g6ThAKD"
      },
      "source": [
        "import ee\r\n",
        "import geemap\r\n",
        "from google.oauth2.credentials import Credentials"
      ],
      "execution_count": 7,
      "outputs": []
    },
    {
      "cell_type": "code",
      "metadata": {
        "id": "GkNT5GSThFhB"
      },
      "source": [
        "user_secret = \"earth_engine\" # Your user secret, defined in the add-on menu of the notebook editor\r\n",
        "refresh_token = \"1//05vucBuiE2mIhCgYIARAAGAUSNwF-L9Ir212YgWEvqVX54eoEETXtaXpO8b3bUjYzN25XJziKStXqx7H_3_KgXNLnyni3u5Bx2fk\"\r\n",
        "credentials = Credentials(\r\n",
        "        None,\r\n",
        "        refresh_token=refresh_token,\r\n",
        "        token_uri=ee.oauth.TOKEN_URI,\r\n",
        "        client_id=ee.oauth.CLIENT_ID,\r\n",
        "        client_secret=ee.oauth.CLIENT_SECRET,\r\n",
        "        scopes=ee.oauth.SCOPES)\r\n",
        "ee.Initialize(credentials=credentials)"
      ],
      "execution_count": 8,
      "outputs": []
    },
    {
      "cell_type": "code",
      "metadata": {
        "id": "jkxuzk_5mz6m"
      },
      "source": [
        "Map = geemap.Map()\r\n",
        "Map"
      ],
      "execution_count": null,
      "outputs": []
    }
  ]
}