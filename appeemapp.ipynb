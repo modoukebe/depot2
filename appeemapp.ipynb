{
  "nbformat": 4,
  "nbformat_minor": 0,
  "metadata": {
    "colab": {
      "name": "appeemapp.ipynb",
      "provenance": [],
      "authorship_tag": "ABX9TyPvKdgV2hCSKccjJ2mcgagQ",
      "include_colab_link": true
    },
    "kernelspec": {
      "name": "python3",
      "display_name": "Python 3"
    }
  },
  "cells": [
    {
      "cell_type": "markdown",
      "metadata": {
        "id": "view-in-github",
        "colab_type": "text"
      },
      "source": [
        "<a href=\"https://colab.research.google.com/github/modoukebe/depot2/blob/main/appeemapp.ipynb\" target=\"_parent\"><img src=\"https://colab.research.google.com/assets/colab-badge.svg\" alt=\"Open In Colab\"/></a>"
      ]
    },
    {
      "cell_type": "code",
      "metadata": {
        "id": "WHyKlHPXGFB7"
      },
      "source": [
        "import ee\r\n",
        "import geemap"
      ],
      "execution_count": 6,
      "outputs": []
    },
    {
      "cell_type": "code",
      "metadata": {
        "id": "LllX-tFm2IV-"
      },
      "source": [
        "%%bash\r\n",
        "earthengine authenticate --authorization-code=4/1AY0e-g743mry6IVmjZGuYTkvORs9KxCd3MnhhuGVvS3Th-mNWlsC3wxjrq8\r\n"
      ],
      "execution_count": null,
      "outputs": []
    },
    {
      "cell_type": "code",
      "metadata": {
        "id": "ggRkaexJzmx4"
      },
      "source": [
        "ee.Initialize()"
      ],
      "execution_count": 10,
      "outputs": []
    },
    {
      "cell_type": "code",
      "metadata": {
        "id": "Bzp7i_EhGYFw"
      },
      "source": [
        "Map = geemap.Map()\r\n",
        "Map"
      ],
      "execution_count": null,
      "outputs": []
    }
  ]
}