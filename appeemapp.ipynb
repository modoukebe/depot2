{
  "nbformat": 4,
  "nbformat_minor": 0,
  "metadata": {
    "colab": {
      "name": "appeemapp.ipynb",
      "provenance": [],
      "collapsed_sections": [],
      "authorship_tag": "ABX9TyO5atGyLjhMGNZVxdZWDtQB",
      "include_colab_link": true
    },
    "kernelspec": {
      "name": "python3",
      "display_name": "Python 3"
    }
  },
  "cells": [
    {
      "cell_type": "markdown",
      "metadata": {
        "id": "view-in-github",
        "colab_type": "text"
      },
      "source": [
        "<a href=\"https://colab.research.google.com/github/modoukebe/depot2/blob/main/appeemapp.ipynb\" target=\"_parent\"><img src=\"https://colab.research.google.com/assets/colab-badge.svg\" alt=\"Open In Colab\"/></a>"
      ]
    },
    {
      "cell_type": "code",
      "metadata": {
        "id": "WHyKlHPXGFB7"
      },
      "source": [
        "import ee\r\n",
        "import geemap"
      ],
      "execution_count": 4,
      "outputs": []
    },
    {
      "cell_type": "code",
      "metadata": {
        "id": "FBzB7ZcRf2Iw"
      },
      "source": [
        "import os\r\n",
        "import platform\r\n",
        "from subprocess import DEVNULL, STDOUT, check_call\r\n"
      ],
      "execution_count": 8,
      "outputs": []
    },
    {
      "cell_type": "code",
      "metadata": {
        "id": "EIrn7EDmmzpr"
      },
      "source": [
        "Map = geemap.Map()\r\n",
        "Map"
      ],
      "execution_count": null,
      "outputs": []
    }
  ]
}